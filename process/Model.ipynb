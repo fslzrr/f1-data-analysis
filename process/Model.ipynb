{
 "cells": [
  {
   "source": [
    "import pandas as pd\n",
    "import numpy as np\n",
    "import statsmodels.api as sm\n",
    "import matplotlib.pyplot as plt\n",
    "from sklearn.linear_model import LinearRegression\n",
    "from sklearn.model_selection import train_test_split\n",
    "import seaborn as sns\n",
    "\n",
    "\n",
    "drivers = pd.read_csv('../dataset/drivers.csv')\n",
    "constructors = pd.read_csv(\"../dataset/constructors.csv\")\n",
    "race_results = pd.read_csv('../dataset/results.csv')\n",
    "races = pd.read_csv('../dataset/races.csv')\n",
    "circuits = pd.read_csv('../dataset/circuits.csv')\n",
    "pit_stops = pd.read_csv('../dataset/pitStops.csv')\n",
    "\n",
    "# stock data\n",
    "driver_results = pd.merge(drivers, race_results, on='driverId')\n",
    "driver_race_results = pd.merge(driver_results, races, on='raceId')\n",
    "driver_race_circuit_results = pd.merge(driver_race_results, circuits, on= 'circuitId')\n",
    "driver_constructor_race_circuit_results = pd.merge(driver_race_circuit_results, constructors, on=\"constructorId\")\n",
    "\n",
    "filtered_stock = driver_constructor_race_circuit_results[['raceId', 'driverId', 'driverRef', 'nationality_x', \"name\", 'positionOrder', 'points', 'grid', 'country', 'alt']].rename(columns={\"nationality_x\": \"nationality\", \"name\": \"constructor\"})\n",
    "\n",
    "#calculated data\n",
    "# pit num\n",
    "pit_cols = pit_stops[[\"raceId\", \"driverId\", \"stop\"]]\n",
    "pit_num = pit_cols.groupby([\"raceId\", \"driverId\"]).count().reset_index()\n",
    "\n",
    "# pit avg time\n",
    "pit_time_cols = pit_stops[[\"raceId\", \"driverId\", \"milliseconds\"]]\n",
    "pit_time = pit_time_cols.groupby([\"raceId\", \"driverId\"]).mean().reset_index()\n",
    "\n",
    "pits = pd.merge(pit_num, pit_time, on=[\"raceId\", \"driverId\"], how=\"left\")\n",
    "\n",
    "# data to use\n",
    "data = pd.merge(filtered_stock, pits,  on=[\"raceId\", \"driverId\"], how=\"right\").drop(columns=[\"driverId\", \"raceId\"])\n",
    "data.head()"
   ],
   "cell_type": "code",
   "metadata": {},
   "execution_count": 2,
   "outputs": [
    {
     "output_type": "error",
     "ename": "ModuleNotFoundError",
     "evalue": "No module named 'pandas'",
     "traceback": [
      "\u001b[0;31m---------------------------------------------------------------------------\u001b[0m",
      "\u001b[0;31mModuleNotFoundError\u001b[0m                       Traceback (most recent call last)",
      "\u001b[0;32m<ipython-input-2-f4bb9f465619>\u001b[0m in \u001b[0;36m<module>\u001b[0;34m\u001b[0m\n\u001b[0;32m----> 1\u001b[0;31m \u001b[0;32mimport\u001b[0m \u001b[0mpandas\u001b[0m \u001b[0;32mas\u001b[0m \u001b[0mpd\u001b[0m\u001b[0;34m\u001b[0m\u001b[0;34m\u001b[0m\u001b[0m\n\u001b[0m\u001b[1;32m      2\u001b[0m \u001b[0;32mimport\u001b[0m \u001b[0mnumpy\u001b[0m \u001b[0;32mas\u001b[0m \u001b[0mnp\u001b[0m\u001b[0;34m\u001b[0m\u001b[0;34m\u001b[0m\u001b[0m\n\u001b[1;32m      3\u001b[0m \u001b[0;32mimport\u001b[0m \u001b[0mstatsmodels\u001b[0m\u001b[0;34m.\u001b[0m\u001b[0mapi\u001b[0m \u001b[0;32mas\u001b[0m \u001b[0msm\u001b[0m\u001b[0;34m\u001b[0m\u001b[0;34m\u001b[0m\u001b[0m\n\u001b[1;32m      4\u001b[0m \u001b[0;32mimport\u001b[0m \u001b[0mmatplotlib\u001b[0m\u001b[0;34m.\u001b[0m\u001b[0mpyplot\u001b[0m \u001b[0;32mas\u001b[0m \u001b[0mplt\u001b[0m\u001b[0;34m\u001b[0m\u001b[0;34m\u001b[0m\u001b[0m\n\u001b[1;32m      5\u001b[0m \u001b[0;32mfrom\u001b[0m \u001b[0msklearn\u001b[0m\u001b[0;34m.\u001b[0m\u001b[0mlinear_model\u001b[0m \u001b[0;32mimport\u001b[0m \u001b[0mLinearRegression\u001b[0m\u001b[0;34m\u001b[0m\u001b[0;34m\u001b[0m\u001b[0m\n",
      "\u001b[0;31mModuleNotFoundError\u001b[0m: No module named 'pandas'"
     ]
    }
   ]
  },
  {
   "cell_type": "code",
   "execution_count": null,
   "metadata": {},
   "outputs": [],
   "source": [
    "data.describe()"
   ]
  },
  {
   "cell_type": "code",
   "execution_count": null,
   "metadata": {},
   "outputs": [],
   "source": [
    "sns.heatmap(data.corr(), annot=True, lw=1)"
   ]
  },
  {
   "cell_type": "code",
   "execution_count": null,
   "metadata": {},
   "outputs": [],
   "source": [
    "Y = data[\"positionOrder\"]\n",
    "X = pd.get_dummies(data=data.drop(columns=[\"positionOrder\", \"points\"]), drop_first=True)\n",
    "X.head()"
   ]
  },
  {
   "cell_type": "code",
   "execution_count": null,
   "metadata": {},
   "outputs": [],
   "source": [
    "X_train, X_test, Y_train, Y_test = train_test_split(X, Y, test_size=0.4, random_state=101)\n",
    "print(X_train.shape)\n",
    "print(X_test.shape)\n",
    "print(Y_train.shape)\n",
    "print(Y_test.shape)"
   ]
  },
  {
   "cell_type": "code",
   "execution_count": null,
   "metadata": {},
   "outputs": [],
   "source": [
    "model = LinearRegression()\n",
    "model.fit(X_train, Y_train)\n",
    "print(model.intercept_)"
   ]
  },
  {
   "cell_type": "code",
   "execution_count": null,
   "metadata": {},
   "outputs": [],
   "source": [
    "coeff_param = pd.DataFrame(model.coef_, X.columns, columns=[\"Coefficient\"])\n",
    "coeff_param.head()"
   ]
  },
  {
   "cell_type": "code",
   "execution_count": null,
   "metadata": {},
   "outputs": [],
   "source": [
    "predictions = model.predict(X_test)\n",
    "sns.regplot(Y_test, predictions)"
   ]
  },
  {
   "cell_type": "code",
   "execution_count": null,
   "metadata": {},
   "outputs": [],
   "source": [
    "X_train_Sm = sm.add_constant(X_train)\n",
    "ls = sm.OLS(Y_train, X_train_Sm).fit()\n",
    "print(ls.summary())"
   ]
  },
  {
   "cell_type": "code",
   "execution_count": null,
   "metadata": {},
   "outputs": [],
   "source": []
  }
 ],
 "metadata": {
  "kernelspec": {
   "name": "Python 3.8.2 64-bit",
   "display_name": "Python 3.8.2 64-bit",
   "metadata": {
    "interpreter": {
     "hash": "31f2aee4e71d21fbe5cf8b01ff0e069b9275f58929596ceb00d14d90e3e16cd6"
    }
   }
  },
  "language_info": {
   "codemirror_mode": {
    "name": "ipython",
    "version": 2
   },
   "file_extension": ".py",
   "mimetype": "text/x-python",
   "name": "python",
   "nbconvert_exporter": "python",
   "pygments_lexer": "ipython2",
   "version": "3.8.2-final"
  }
 },
 "nbformat": 4,
 "nbformat_minor": 2
}